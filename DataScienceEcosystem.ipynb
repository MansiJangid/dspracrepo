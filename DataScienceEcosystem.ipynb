{
 "cells": [
  {
   "cell_type": "markdown",
   "id": "da452c90",
   "metadata": {},
   "source": [
    "# Data Science Tools and Ecosystem"
   ]
  },
  {
   "cell_type": "markdown",
   "id": "65a224ce",
   "metadata": {},
   "source": [
    "In this notebook, Data Science Tools and Ecosystem are summarized.\n"
   ]
  },
  {
   "cell_type": "markdown",
   "id": "6ceefe0b",
   "metadata": {},
   "source": [
    "__Objectives:__\n",
    "* List popular languages for Data Science\n",
    "* List commonly used libraries for Data Science\n",
    "* Tools for Data Science\n",
    "* Arithmetic Expression using Python"
   ]
  },
  {
   "cell_type": "markdown",
   "id": "3c29e041",
   "metadata": {},
   "source": [
    "__Some of the popular languages that Data Scientists use are:__\n"
   ]
  },
  {
   "cell_type": "markdown",
   "id": "fa36dce2",
   "metadata": {},
   "source": [
    "1. Python\n",
    "1. SQL\n",
    "1. R Language\n",
    "1. Scala"
   ]
  },
  {
   "cell_type": "markdown",
   "id": "21f663b3",
   "metadata": {},
   "source": [
    "__Some of the commonly used libraries used by Data Scientists include:__"
   ]
  },
  {
   "cell_type": "markdown",
   "id": "128a41d3",
   "metadata": {},
   "source": [
    "1. NumPy\n",
    "1. Pandas\n",
    "1. Matplotlib\n",
    "1. Scikit-Learn\n",
    "1. TensorFlow"
   ]
  },
  {
   "cell_type": "markdown",
   "id": "51875aa2",
   "metadata": {},
   "source": [
    "| Data Science Tools |\n",
    "| :----------------: |\n",
    "| Jupyter Notebook   |\n",
    "| Jupyter Lab        |\n",
    "| RStudio            |\n",
    "| Apache Zeppelin    |\n",
    "| Apache Spark       |\n",
    "| KNIME              |"
   ]
  },
  {
   "cell_type": "markdown",
   "id": "2a61f098",
   "metadata": {},
   "source": [
    "### Below are a few examples of evaluating arithmetic expressions in Python\n"
   ]
  },
  {
   "cell_type": "code",
   "execution_count": 1,
   "id": "209563f9",
   "metadata": {},
   "outputs": [
    {
     "data": {
      "text/plain": [
       "17"
      ]
     },
     "execution_count": 1,
     "metadata": {},
     "output_type": "execute_result"
    }
   ],
   "source": [
    "(3*4)+5    #This a simple arithmetic expression to mutiply then add integers"
   ]
  },
  {
   "cell_type": "code",
   "execution_count": 2,
   "id": "e18886c6",
   "metadata": {},
   "outputs": [
    {
     "data": {
      "text/plain": [
       "3.3333333333333335"
      ]
     },
     "execution_count": 2,
     "metadata": {},
     "output_type": "execute_result"
    }
   ],
   "source": [
    "min = 200    #This will convert 200 minutes to hours by diving by 60\n",
    "hours = min/60\n",
    "hours"
   ]
  },
  {
   "cell_type": "markdown",
   "id": "b95836a8",
   "metadata": {},
   "source": [
    "## Author\n",
    "Mansi"
   ]
  },
  {
   "cell_type": "code",
   "execution_count": null,
   "id": "e4ea62de",
   "metadata": {},
   "outputs": [],
   "source": []
  }
 ],
 "metadata": {
  "kernelspec": {
   "display_name": "Python 3 (ipykernel)",
   "language": "python",
   "name": "python3"
  },
  "language_info": {
   "codemirror_mode": {
    "name": "ipython",
    "version": 3
   },
   "file_extension": ".py",
   "mimetype": "text/x-python",
   "name": "python",
   "nbconvert_exporter": "python",
   "pygments_lexer": "ipython3",
   "version": "3.10.9"
  }
 },
 "nbformat": 4,
 "nbformat_minor": 5
}
